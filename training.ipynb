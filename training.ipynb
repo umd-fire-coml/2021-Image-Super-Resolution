{
 "cells": [
  {
   "cell_type": "code",
   "execution_count": null,
   "metadata": {},
   "outputs": [],
   "source": [
    "import tensorflow as tf\n",
    "from src import DataGenerator\n",
    "from src import backbone\n",
    "from src import train\n",
    "\n",
    "scale = 2\n",
    "batch_size = 8\n",
    "epochs = 100\n",
    "\n",
    "# compile the model\n",
    "model = backbone.get_model(2,3)\n",
    "opt = tf.keras.optimizers.Adam(learning_rate = 0.001)\n",
    "model.compile(optimizer=opt, loss=\"mse\", metrics=[\"mae\"])\n",
    "model.summary()\n",
    "\n",
    "# training the model\n",
    "train(model, scale, batch_size, epochs)"
   ]
  }
 ],
 "metadata": {
  "language_info": {
   "name": "python"
  },
  "orig_nbformat": 4
 },
 "nbformat": 4,
 "nbformat_minor": 2
}
